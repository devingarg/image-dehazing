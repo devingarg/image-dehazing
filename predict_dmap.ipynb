{
 "cells": [
  {
   "cell_type": "code",
   "execution_count": 26,
   "id": "7dc27deb",
   "metadata": {},
   "outputs": [],
   "source": [
    "import os\n",
    "import os.path as osp\n",
    "\n",
    "import matplotlib.pyplot as plt\n",
    "from PIL import Image\n",
    "import torch\n",
    "import torch.nn as nn\n",
    "import torchvision.transforms as transforms\n",
    "from tqdm import tqdm\n",
    "\n",
    "from model import Dehazer\n",
    "from data import reshape_source, get_transform, collect_paths"
   ]
  },
  {
   "cell_type": "code",
   "execution_count": 27,
   "id": "d3ada42b",
   "metadata": {},
   "outputs": [
    {
     "name": "stdout",
     "output_type": "stream",
     "text": [
      "The autoreload extension is already loaded. To reload it, use:\n",
      "  %reload_ext autoreload\n"
     ]
    }
   ],
   "source": [
    "%load_ext autoreload\n",
    "%autoreload 2"
   ]
  },
  {
   "cell_type": "code",
   "execution_count": 37,
   "id": "0f027272",
   "metadata": {},
   "outputs": [],
   "source": [
    "def extract_dmaps(src_dir, paths):\n",
    "    \n",
    "    dst_dir = osp.join(osp.split(src_dir)[0], \"dmap_pred\")\n",
    "    os.makedirs(dst_dir, exist_ok=True)\n",
    "    \n",
    "    print(f\"Destination directory of dmaps: {dst_dir}\")\n",
    "        \n",
    "    # get predictions\n",
    "    device = torch.device(\"cuda\")\n",
    "    model.to(device)\n",
    "\n",
    "    for p in tqdm(paths):\n",
    "\n",
    "        # get filename from the path\n",
    "        fname = osp.split(p)[1]\n",
    "        fname_out = fname.replace(\"hazy\", \"dmap\")\n",
    "\n",
    "        # read in the image\n",
    "        hazy_img = transform(Image.open(p)).unsqueeze(0)\n",
    "\n",
    "        # get the result\n",
    "        output = model(hazy_img.to(device)).detach().cpu().numpy().squeeze()\n",
    "        output = output/output.max()\n",
    "        output = output*255\n",
    "        output = output.astype(\"uint8\")\n",
    "\n",
    "        # store the result\n",
    "        pil_output = Image.fromarray(output)\n",
    "        dst_fname = osp.join(dst_dir, fname_out)\n",
    "        pil_output.save(dst_fname)"
   ]
  },
  {
   "cell_type": "code",
   "execution_count": 30,
   "id": "b9f61f21",
   "metadata": {},
   "outputs": [
    {
     "data": {
      "text/plain": [
       "<All keys matched successfully>"
      ]
     },
     "execution_count": 30,
     "metadata": {},
     "output_type": "execute_result"
    }
   ],
   "source": [
    "# load the checkpoint into the model\n",
    "\n",
    "ckpt_path = \"logs/dh/NYU/lr0.0002_epochs30/weights/030.pth\"\n",
    "model = Dehazer(in_channels=3, out_channels=1)\n",
    "checkpoint = torch.load(ckpt_path)\n",
    "model.load_state_dict(checkpoint[\"state_dict\"])"
   ]
  },
  {
   "cell_type": "code",
   "execution_count": 38,
   "id": "6c682b32",
   "metadata": {},
   "outputs": [],
   "source": [
    "# set the dataset, list the files\n",
    "\n",
    "dataset = \"dh/NYU\"\n",
    "src_dir = f\"datasets/{dataset}/hazy\"\n",
    "src_list_file = None\n",
    "# src_file_list = \"dhazy/NYU_split/test_Hazy.txt\"\n",
    "\n",
    "paths = collect_paths(src_dir, src_list_file)\n",
    "transform = get_transform(dataset)"
   ]
  },
  {
   "cell_type": "code",
   "execution_count": 40,
   "id": "2765b5f1",
   "metadata": {},
   "outputs": [
    {
     "name": "stdout",
     "output_type": "stream",
     "text": [
      "Input transformation being used:\n",
      "Compose(\n",
      "    ToTensor()\n",
      ")\n"
     ]
    }
   ],
   "source": [
    "print(\"Input transformation being used:\")\n",
    "print(transform)"
   ]
  },
  {
   "cell_type": "code",
   "execution_count": null,
   "id": "43ff0d8a",
   "metadata": {},
   "outputs": [],
   "source": [
    "extract_dmaps(src_dir, paths)"
   ]
  }
 ],
 "metadata": {
  "kernelspec": {
   "display_name": "Python 3 (ipykernel)",
   "language": "python",
   "name": "python3"
  },
  "language_info": {
   "codemirror_mode": {
    "name": "ipython",
    "version": 3
   },
   "file_extension": ".py",
   "mimetype": "text/x-python",
   "name": "python",
   "nbconvert_exporter": "python",
   "pygments_lexer": "ipython3",
   "version": "3.9.5"
  }
 },
 "nbformat": 4,
 "nbformat_minor": 5
}
