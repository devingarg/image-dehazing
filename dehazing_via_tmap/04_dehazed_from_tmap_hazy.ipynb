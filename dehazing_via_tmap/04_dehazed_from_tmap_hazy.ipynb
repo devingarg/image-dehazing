{
 "cells": [
  {
   "cell_type": "code",
   "execution_count": 1,
   "id": "0bd36d98",
   "metadata": {},
   "outputs": [],
   "source": [
    "import os\n",
    "import os.path as osp\n",
    "\n",
    "import cv2\n",
    "from PIL import Image\n",
    "import numpy as np\n",
    "import matplotlib.pyplot as plt\n",
    "from tqdm import tqdm"
   ]
  },
  {
   "cell_type": "code",
   "execution_count": 11,
   "id": "dcdce66f",
   "metadata": {},
   "outputs": [],
   "source": [
    "def recover_image(img, t, A=np.array([1,1,1])):\n",
    "    # set the minimum for the transmission map\n",
    "    t_min = 0.1\n",
    "    \n",
    "    # the output dehazed images\n",
    "    J = np.zeros(img.shape, dtype='float64')\n",
    "\n",
    "    # iterate through all the pixels\n",
    "    for i in range(img.shape[0]):\n",
    "        for j in range(img.shape[1]):\n",
    "            # for every pixel invert the atmospheric scattering model\n",
    "            # using the computed t-map and atmospheric light\n",
    "            J[i,j] = ((img[i,j] - A) / max(t[i,j], t_min)) + A\n",
    "            \n",
    "    return J"
   ]
  },
  {
   "cell_type": "code",
   "execution_count": 17,
   "id": "2ca441c6",
   "metadata": {},
   "outputs": [],
   "source": [
    "def haze2dehazed(hazy_paths, tmap_paths, output_dir):\n",
    "    \n",
    "    # create the output directory if not already present\n",
    "    os.makedirs(output_dir, exist_ok=True)\n",
    "    \n",
    "    # iterate through pairs of (hazy_image, t-map)\n",
    "    for img_path, tmap_path in tqdm(zip(hazy_paths, tmap_paths), total=len(hazy_paths)):\n",
    "        \n",
    "        img_name = os.path.split(img_path)[1]\n",
    "        \n",
    "        dehazed_img_name = os.path.join(output_dir, img_name.replace(\"hazy\", \"dehazed\"))\n",
    "           \n",
    "        img = cv2.imread(img_path)/255.\n",
    "        tmap = cv2.imread(tmap_path)/255.\n",
    "        tmap = cv2.cvtColor(tmap.astype('float32'), cv2.COLOR_BGR2GRAY)\n",
    "        \n",
    "        dehazed_img = recover_image(img, tmap)\n",
    "    \n",
    "        # write to disk\n",
    "        cv2.imwrite(dehazed_img_name, dehazed_img*255)\n"
   ]
  },
  {
   "cell_type": "code",
   "execution_count": 18,
   "id": "ec20f6cf",
   "metadata": {},
   "outputs": [],
   "source": [
    "dataset = \"dh/NYU\"\n",
    "\n",
    "tmap_dir = osp.join(\"../datasets\", dataset, \"tmap_pred_refined\")\n",
    "hazy_dir = osp.join(\"../datasets\", dataset, \"hazy\")\n",
    "output_dir = osp.join(\"../datasets\", dataset, \"dehazed\")"
   ]
  },
  {
   "cell_type": "code",
   "execution_count": 19,
   "id": "3e9ca2bb",
   "metadata": {},
   "outputs": [],
   "source": [
    "tmap_paths = []\n",
    "hazy_paths = []\n",
    "\n",
    "for f in sorted(os.listdir(hazy_dir)):\n",
    "    hazy_path = os.path.join(hazy_dir, f)\n",
    "    tmap_path = os.path.join(tmap_dir, f.replace(\"_hazy\", \"_tmap\"))\n",
    "    \n",
    "    assert osp.isfile(tmap_path) and osp.isfile(hazy_path)\n",
    "    tmap_paths.append(tmap_path)\n",
    "    hazy_paths.append(hazy_path)  "
   ]
  },
  {
   "cell_type": "code",
   "execution_count": 20,
   "id": "721b01b1",
   "metadata": {},
   "outputs": [
    {
     "name": "stdout",
     "output_type": "stream",
     "text": [
      "['datasets/dh/NYU/hazy/1000_hazy.bmp', 'datasets/dh/NYU/hazy/1001_hazy.bmp', 'datasets/dh/NYU/hazy/1002_hazy.bmp', 'datasets/dh/NYU/hazy/1003_hazy.bmp', 'datasets/dh/NYU/hazy/1004_hazy.bmp'] ['datasets/dh/NYU/tmap_pred_refined/1000_tmap.bmp', 'datasets/dh/NYU/tmap_pred_refined/1001_tmap.bmp', 'datasets/dh/NYU/tmap_pred_refined/1002_tmap.bmp', 'datasets/dh/NYU/tmap_pred_refined/1003_tmap.bmp', 'datasets/dh/NYU/tmap_pred_refined/1004_tmap.bmp']\n"
     ]
    }
   ],
   "source": [
    "print(hazy_paths[:5], tmap_paths[:5])"
   ]
  },
  {
   "cell_type": "code",
   "execution_count": null,
   "id": "76f5bdf2",
   "metadata": {},
   "outputs": [
    {
     "name": "stderr",
     "output_type": "stream",
     "text": [
      "  2%|▏         | 35/1449 [01:10<46:55,  1.99s/it]"
     ]
    }
   ],
   "source": [
    "haze2dehazed(hazy_paths, tmap_paths, output_dir)"
   ]
  },
  {
   "cell_type": "code",
   "execution_count": null,
   "id": "5a7c7fca",
   "metadata": {},
   "outputs": [],
   "source": []
  },
  {
   "cell_type": "code",
   "execution_count": null,
   "id": "4778f9a1",
   "metadata": {},
   "outputs": [],
   "source": []
  }
 ],
 "metadata": {
  "kernelspec": {
   "display_name": "Python 3 (ipykernel)",
   "language": "python",
   "name": "python3"
  },
  "language_info": {
   "codemirror_mode": {
    "name": "ipython",
    "version": 3
   },
   "file_extension": ".py",
   "mimetype": "text/x-python",
   "name": "python",
   "nbconvert_exporter": "python",
   "pygments_lexer": "ipython3",
   "version": "3.10.6"
  }
 },
 "nbformat": 4,
 "nbformat_minor": 5
}
