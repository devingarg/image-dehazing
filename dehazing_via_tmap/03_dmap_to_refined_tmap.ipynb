{
 "cells": [
  {
   "cell_type": "code",
   "execution_count": 12,
   "id": "67cbc098",
   "metadata": {},
   "outputs": [],
   "source": [
    "import cv2\n",
    "from cv2.ximgproc import guidedFilter\n",
    "import matplotlib.pyplot as plt\n",
    "import numpy as np\n",
    "\n",
    "import os\n",
    "import os.path as osp\n",
    "from tqdm import tqdm"
   ]
  },
  {
   "cell_type": "code",
   "execution_count": 13,
   "id": "17456d68",
   "metadata": {},
   "outputs": [],
   "source": [
    "def get_filtered_map(img_path, dmap_path, dst_dir):\n",
    "    \n",
    "    # get the dmap file's name\n",
    "    fname = os.path.split(dmap_path)[1]\n",
    "    \n",
    "    # read in the hazy image being used as the guide\n",
    "    img = cv2.imread(img_path)/255\n",
    "    \n",
    "    # read in the depth map\n",
    "    dmap = cv2.imread(dmap_path)/255\n",
    "    \n",
    "    # there might be a slight variation in the depth map shape \n",
    "    # due to the reconstruction by the model, so reshape it to \n",
    "    # image size\n",
    "    dmap = cv2.resize(dmap, (img.shape[1], img.shape[0]))\n",
    "\n",
    "    dmap = cv2.cvtColor(dmap.astype('float32'), cv2.COLOR_BGR2GRAY)\n",
    "    tmap = np.clip(np.exp(-dmap), a_min=0, a_max=1)\n",
    "    \n",
    "    gray = cv2.cvtColor(img.astype('float32'), cv2.COLOR_BGR2GRAY)\n",
    "    t = guidedFilter(gray, tmap.astype('float32'), radius=20, eps=10e-3)\n",
    "    \n",
    "    # write the refined dmap to a file\n",
    "    cv2.imwrite(os.path.join(dst_dir, fname), t*255)\n",
    "\n",
    "    return"
   ]
  },
  {
   "cell_type": "code",
   "execution_count": 14,
   "id": "662c0ec2",
   "metadata": {},
   "outputs": [],
   "source": [
    "dataset = \"dh/NYU\"\n",
    "dmap_dir = osp.join(\"datasets\", dataset, \"dmap_pred\")\n",
    "hazy_dir = osp.join(\"datasets\", dataset, \"hazy\")\n",
    "\n",
    "dst_dir = osp.join(\"datasets\", dataset, \"dmap_pred_refined\")\n",
    "os.makedirs(dst_dir, exist_ok=True)"
   ]
  },
  {
   "cell_type": "code",
   "execution_count": 15,
   "id": "92bd1475",
   "metadata": {},
   "outputs": [],
   "source": [
    "# accumulate file paths\n",
    "hazy_paths, dmap_paths = [], []\n",
    "\n",
    "for f in sorted(os.listdir(dmap_dir)):\n",
    "    dmap_paths.append(os.path.join(dmap_dir, f))\n",
    "\n",
    "for f in sorted(os.listdir(hazy_dir)):\n",
    "    hazy_paths.append(os.path.join(hazy_dir, f))"
   ]
  },
  {
   "cell_type": "code",
   "execution_count": 16,
   "id": "9437eb30",
   "metadata": {},
   "outputs": [
    {
     "name": "stderr",
     "output_type": "stream",
     "text": [
      "100%|██████████| 1449/1449 [00:43<00:00, 33.29it/s]\n"
     ]
    }
   ],
   "source": [
    "# filter the dmaps using hazy images as guides\n",
    "\n",
    "for guide_path, dmap_path in tqdm(zip(hazy_paths, dmap_paths), total=len(hazy_paths)):\n",
    "    get_filtered_map(guide_path, dmap_path, dst_dir)"
   ]
  },
  {
   "cell_type": "code",
   "execution_count": null,
   "id": "208f71a7",
   "metadata": {},
   "outputs": [],
   "source": []
  }
 ],
 "metadata": {
  "kernelspec": {
   "display_name": "Python 3 (ipykernel)",
   "language": "python",
   "name": "python3"
  },
  "language_info": {
   "codemirror_mode": {
    "name": "ipython",
    "version": 3
   },
   "file_extension": ".py",
   "mimetype": "text/x-python",
   "name": "python",
   "nbconvert_exporter": "python",
   "pygments_lexer": "ipython3",
   "version": "3.9.5"
  }
 },
 "nbformat": 4,
 "nbformat_minor": 5
}
