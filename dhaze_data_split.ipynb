{
  "nbformat": 4,
  "nbformat_minor": 0,
  "metadata": {
    "colab": {
      "provenance": []
    },
    "kernelspec": {
      "name": "python3",
      "display_name": "Python 3"
    },
    "language_info": {
      "name": "python"
    }
  },
  "cells": [
    {
      "cell_type": "code",
      "execution_count": null,
      "metadata": {
        "id": "9lci0CUywxZV"
      },
      "outputs": [],
      "source": [
        "import os\n",
        "import random\n",
        "\n",
        "def split_Middlebury_dataset(data_dir, output_dir):\n",
        "    imgs = []\n",
        "    for i in sorted(os.listdir(os.path.join(data_dir))):\n",
        "        img_path = os.path.join(data_dir, i)\n",
        "        if os.path.isfile(img_path):\n",
        "            imgs.append(img_path)\n",
        "\n",
        "    train_split = 0.8\n",
        "    train_samples = random.sample(imgs, int(0.8*len(imgs)))\n",
        "\n",
        "    # write split into output directory\n",
        "    with open(os.path.join(output_dir, \"test_GT.txt\"), \"w\") as test_GT:\n",
        "        with open(os.path.join(output_dir, \"train_GT.txt\"), \"w\") as train_GT:\n",
        "            with open(os.path.join(output_dir, \"test_Hazy.txt\"), \"w\") as test_Hazy:\n",
        "                with open(os.path.join(output_dir, \"train_Hazy.txt\"), \"w\") as train_Hazy:\n",
        "                    for s in imgs:\n",
        "                        if s in train_samples:\n",
        "                            train_GT.write(s+\"\\n\")\n",
        "                            train_Hazy.write(s.replace('Hazy.bmp', 'im0.png').replace('_Hazy', '_GT')+\"\\n\")\n",
        "                        else:\n",
        "                            test_GT.write(s+\"\\n\")\n",
        "                            test_Hazy.write(s.replace('Hazy.bmp', 'im0.png').replace('_Hazy', '_GT')+\"\\n\")\n",
        "\n",
        "\n",
        "def split_NYU_dataset(data_dir, output_dir):\n",
        "    imgs = []\n",
        "    hazy_postfix = '_Hazy.bmp'\n",
        "    gt_postfix = '_Image_.bmp'\n",
        "    tmap_postfix = '_Depth_.bmp'\n",
        "\n",
        "    for img_name in sorted(os.listdir(os.path.join(data_dir))):\n",
        "        imgs.append(img_name.split('_')[0])\n",
        "\n",
        "    train_split = 0.8\n",
        "    train_samples = random.sample(imgs, int(0.8*len(imgs)))\n",
        "\n",
        "    # write split into output directory\n",
        "    with open(os.path.join(output_dir, \"train_GT.txt\"), \"w\") as train_GT:\n",
        "        with open(os.path.join(output_dir, \"train_tmap.txt\"), \"w\") as train_tmap:\n",
        "            with open(os.path.join(output_dir, \"train_Hazy.txt\"), \"w\") as train_Hazy:\n",
        "                with open(os.path.join(output_dir, \"test_GT.txt\"), \"w\") as test_GT:\n",
        "                    with open(os.path.join(output_dir, \"test_tmap.txt\"), \"w\") as test_tmap:\n",
        "                        with open(os.path.join(output_dir, \"test_Hazy.txt\"), \"w\") as test_Hazy:\n",
        "                            for s in imgs:\n",
        "                                if s in train_samples:\n",
        "                                    train_GT.write(os.path.join(data_dir.replace('_Hazy', '_GT'), s+gt_postfix)+\"\\n\")\n",
        "                                    train_tmap.write(os.path.join(data_dir.replace('_Hazy', '_GT'), s+tmap_postfix)+\"\\n\")\n",
        "                                    train_Hazy.write(os.path.join(data_dir, s+hazy_postfix)+\"\\n\")\n",
        "                                else:\n",
        "                                    test_GT.write(os.path.join(data_dir.replace('_Hazy', '_GT'), s+gt_postfix)+\"\\n\")\n",
        "                                    test_tmap.write(os.path.join(data_dir.replace('_Hazy', '_GT'), s+tmap_postfix)+\"\\n\")\n",
        "                                    test_Hazy.write(os.path.join(data_dir, s+hazy_postfix)+\"\\n\")\n"
      ]
    },
    {
      "cell_type": "code",
      "source": [
        "split_Middlebury_dataset('/content/drive/MyDrive/CSE273/dhaze/Middlebury_Hazy', '/content/drive/MyDrive/CSE273/dhaze/Middlebury_split')"
      ],
      "metadata": {
        "id": "Pk9I-yydwzp6"
      },
      "execution_count": null,
      "outputs": []
    },
    {
      "cell_type": "code",
      "source": [
        "# use the hazy directory as input as it doens't contain duplicates\n",
        "split_NYU_dataset('/content/drive/MyDrive/CSE273/dhaze/NYU_Hazy', '/content/drive/MyDrive/CSE273/dhaze/NYU_split')"
      ],
      "metadata": {
        "id": "cqbQhEoiKfHn"
      },
      "execution_count": null,
      "outputs": []
    }
  ]
}