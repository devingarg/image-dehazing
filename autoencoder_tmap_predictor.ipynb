{
 "cells": [
  {
   "cell_type": "code",
   "execution_count": null,
   "metadata": {
    "id": "tHdt2yJqQDPg"
   },
   "outputs": [],
   "source": [
    "import os\n",
    "import random\n",
    "\n",
    "import matplotlib.pyplot as plt\n",
    "import numpy as np\n",
    "import torch\n",
    "import torch.nn as nn\n",
    "import torch.optim as optim\n",
    "from torch.utils.tensorboard import SummaryWriter\n",
    "\n",
    "from data import get_dataloaders\n",
    "from model import Dehazer"
   ]
  },
  {
   "cell_type": "code",
   "execution_count": null,
   "metadata": {
    "id": "AL8izIStQLwx"
   },
   "outputs": [],
   "source": [
    "%load_ext autoreload\n",
    "%autoreload 2\n",
    "\n",
    "random.seed(43)\n",
    "torch.manual_seed(43)"
   ]
  },
  {
   "cell_type": "code",
   "execution_count": null,
   "metadata": {
    "id": "zKqm99anQPhP"
   },
   "outputs": [],
   "source": [
    "# options: [\"ohaze\", \"dh/Middlebury\", \"dh/NYU\"]\n",
    "DATASET = \"dh/NYU\"\n",
    "BATCH_SIZE = 8\n",
    "TRAIN_SPLIT = 0.8\n",
    "train_loader, test_loader = get_dataloaders(DATASET, TRAIN_SPLIT, BATCH_SIZE, tmap_gt=True)"
   ]
  },
  {
   "cell_type": "code",
   "execution_count": null,
   "metadata": {
    "id": "n0c4GGuOSIVD"
   },
   "outputs": [],
   "source": [
    "device = torch.device(\"cuda\" if torch.cuda.is_available() else \"cpu\")"
   ]
  },
  {
   "cell_type": "code",
   "execution_count": null,
   "metadata": {
    "colab": {
     "base_uri": "https://localhost:8080/"
    },
    "id": "vyNX_xRqSLKo",
    "outputId": "6dd835b4-314a-4add-8cb6-a0949d2abe8d"
   },
   "outputs": [],
   "source": [
    "model = Dehazer(in_channels=3, out_channels=1)\n",
    "num_params_m = sum(torch.numel(p) for p in model.parameters())\n",
    "print(f\"Number of parameters in the model: {num_params_m}\")\n",
    "\n",
    "criterion = nn.MSELoss()\n",
    "\n",
    "learning_rate = 2e-4\n",
    "optimizer = optim.Adam(model.parameters(), lr=learning_rate)"
   ]
  },
  {
   "cell_type": "code",
   "execution_count": null,
   "metadata": {},
   "outputs": [],
   "source": [
    "def test(model, test_loader, writer, epoch):\n",
    "    model.eval()\n",
    "\n",
    "    with torch.no_grad():\n",
    "        for images, targets in test_loader:\n",
    "            images = images.to(device)\n",
    "\n",
    "            # Forward pass\n",
    "            outputs = model(images)\n",
    "\n",
    "            # Convert the outputs and targets to numpy arrays\n",
    "            outputs_np = outputs.cpu().numpy()\n",
    "            targets_np = targets.numpy()\n",
    "\n",
    "            num_outs = outputs.shape[0]\n",
    "            fig, axs = plt.subplots(2, num_outs, figsize=(20, 8))\n",
    "\n",
    "            for i in range(num_outs):\n",
    "                axs[0, i].imshow(targets_np[i].transpose(1, 2, 0), cmap='gray')\n",
    "                axs[0, i].set_title(\"Ground Truth\")\n",
    "                axs[0, i].axis(\"off\")\n",
    "\n",
    "                # Plot predicted image in the second row\n",
    "                axs[1, i].imshow(outputs_np[i].transpose(1, 2, 0), cmap='gray')\n",
    "                axs[1, i].set_title(\"Output\")\n",
    "                axs[1, i].axis(\"off\")\n",
    "\n",
    "            plt.tight_layout()\n",
    "            plt.savefig(f'plot_{epoch}.png')\n",
    "\n",
    "            # Load the image file as a tensor\n",
    "            image = torch.from_numpy(np.array(Image.open('plot.png'))).permute(2, 0, 1).float() / 255\n",
    "\n",
    "            # Add the image to the SummaryWriter\n",
    "            writer.add_image('Plot', image)\n",
    "            plt.show()\n",
    "            break\n",
    "\n",
    "    writer.close()\n"
   ]
  },
  {
   "cell_type": "code",
   "execution_count": null,
   "metadata": {},
   "outputs": [],
   "source": [
    "def train(model, train_loader, test_loader, num_epochs):\n",
    "    model.to(device)\n",
    "\n",
    "    log_dir = f\"./logs/{DATASET}/lr{learning_rate}_epochs{num_epochs}\"\n",
    "    writer = SummaryWriter(log_dir)\n",
    "    weights_dir = os.path.join(log_dir, \"weights\")\n",
    "    os.makedirs(weights_dir, exist_ok=True)\n",
    "\n",
    "    for epoch in range(num_epochs):\n",
    "\n",
    "            running_loss = 0.0\n",
    "            for idx, (images, targets) in enumerate(train_loader):\n",
    "                images = images.to(device)\n",
    "                targets = targets.to(device)\n",
    "\n",
    "                # Forward pass\n",
    "                outputs = model(images)\n",
    "\n",
    "                # Compute the loss\n",
    "                loss = criterion(outputs, targets)\n",
    "\n",
    "                # Backward and optimize\n",
    "                optimizer.zero_grad()\n",
    "                loss.backward()\n",
    "                optimizer.step()\n",
    "\n",
    "                running_loss += loss.item()\n",
    "\n",
    "            epoch_loss = running_loss / len(train_loader)\n",
    "            print(f\"Epoch [{epoch+1}/{num_epochs}], Loss: {epoch_loss:.6f}\")\n",
    "\n",
    "            if (epoch+1)%3 == 0:\n",
    "                test(model, test_loader, writer, epoch)\n",
    "                model.train()\n",
    "                checkpoint = {\n",
    "                        'epoch' : epoch + 1,\n",
    "                        'state_dict': model.state_dict(),\n",
    "                        'optimizer': optimizer.state_dict()\n",
    "                    }\n",
    "                torch.save(checkpoint, os.path.join(weights_dir, f\"{(epoch+1):03}.pth\"))\n",
    "\n",
    "    writer.close()"
   ]
  },
  {
   "cell_type": "code",
   "execution_count": null,
   "metadata": {},
   "outputs": [],
   "source": [
    "NUM_EPOCHS = 30\n",
    "train(model, train_loader, test_loader, NUM_EPOCHS)"
   ]
  },
  {
   "cell_type": "code",
   "execution_count": null,
   "metadata": {},
   "outputs": [],
   "source": []
  }
 ],
 "metadata": {
  "accelerator": "GPU",
  "colab": {
   "gpuType": "A100",
   "machine_shape": "hm",
   "provenance": []
  },
  "kernelspec": {
   "display_name": "Python 3 (ipykernel)",
   "language": "python",
   "name": "python3"
  },
  "language_info": {
   "codemirror_mode": {
    "name": "ipython",
    "version": 3
   },
   "file_extension": ".py",
   "mimetype": "text/x-python",
   "name": "python",
   "nbconvert_exporter": "python",
   "pygments_lexer": "ipython3",
   "version": "3.9.5"
  }
 },
 "nbformat": 4,
 "nbformat_minor": 1
}
