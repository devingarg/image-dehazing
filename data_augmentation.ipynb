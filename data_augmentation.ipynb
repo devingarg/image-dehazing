{
 "cells": [
  {
   "cell_type": "code",
   "execution_count": 14,
   "id": "05bf070f",
   "metadata": {},
   "outputs": [
    {
     "name": "stdout",
     "output_type": "stream",
     "text": [
      "Defaulting to user installation because normal site-packages is not writeable\n",
      "Requirement already satisfied: Augmentor in /home/degarg/.local/lib/python3.9/site-packages (0.2.12)\n",
      "Requirement already satisfied: Pillow>=5.2.0 in /opt/conda/lib/python3.9/site-packages (from Augmentor) (8.3.1)\n",
      "Requirement already satisfied: tqdm>=4.9.0 in /opt/conda/lib/python3.9/site-packages (from Augmentor) (4.61.2)\n",
      "Requirement already satisfied: numpy>=1.11.0 in /opt/conda/lib/python3.9/site-packages (from Augmentor) (1.22.4)\n"
     ]
    }
   ],
   "source": [
    "!pip install Augmentor"
   ]
  },
  {
   "cell_type": "code",
   "execution_count": 17,
   "id": "5ea83979",
   "metadata": {},
   "outputs": [],
   "source": [
    "import Augmentor\n",
    "import numpy as np\n",
    "from PIL import Image\n",
    "import random\n",
    "import shutil"
   ]
  },
  {
   "cell_type": "code",
   "execution_count": 25,
   "id": "e598e0e5",
   "metadata": {},
   "outputs": [],
   "source": [
    "def list_train_test_split(data_dir):\n",
    "    imgs = []\n",
    "    for i in sorted(os.listdir(os.path.join(data_dir, \"GT\"))):\n",
    "        img_path = os.path.join(data_dir, \"GT\", i)\n",
    "        if os.path.isfile(img_path):\n",
    "            imgs.append(img_path)\n",
    "\n",
    "    train_split = 0.8\n",
    "    train_samples = random.sample(imgs, int(0.8*len(imgs)))\n",
    "\n",
    "    with open(os.path.join(data_dir, \"test.txt\"), \"w\") as f1:\n",
    "        with open(os.path.join(data_dir, \"train.txt\"), \"w\") as f2:\n",
    "            for s in imgs:\n",
    "                if s in train_samples:\n",
    "                    f2.write(s+\"\\n\")\n",
    "                else:\n",
    "                    f1.write(s+\"\\n\")"
   ]
  },
  {
   "cell_type": "code",
   "execution_count": 31,
   "id": "2bfac4ae",
   "metadata": {},
   "outputs": [],
   "source": [
    "def move_to_train_test_dirs(trainfile, testfile):\n",
    "    train, test = [], []\n",
    "    with open(trainfile, \"r\") as f:\n",
    "        for l in f.readlines():\n",
    "            train.append(l.strip())\n",
    "    \n",
    "    with open(testfile, \"r\") as f:\n",
    "        for l in f.readlines():\n",
    "            test.append(l.strip())\n",
    "    \n",
    "    shutil.rmtree(\"ohaze/train\")\n",
    "    shutil.rmtree(\"ohaze/test\")\n",
    "    \n",
    "    os.makedirs(\"ohaze/train/GT\")\n",
    "    os.makedirs(\"ohaze/test/GT\")\n",
    "    os.makedirs(\"ohaze/train/hazy\")\n",
    "    os.makedirs(\"ohaze/test/hazy\")\n",
    "\n",
    "    for tr in train:\n",
    "        shutil.move(tr, f\"ohaze/train/GT/{os.path.split(tr)[1]}\")\n",
    "        shutil.move(tr.replace(\"GT\", \"hazy\"), f\"ohaze/train/GT/{os.path.split(tr)[1]}\".replace(\"GT\", \"hazy\"))\n",
    "    \n",
    "    for tr in test:\n",
    "        shutil.move(tr, f\"ohaze/test/GT/{os.path.split(tr)[1]}\")\n",
    "        shutil.move(tr.replace(\"GT\", \"hazy\"), f\"ohaze/test/GT/{os.path.split(tr)[1]}\".replace(\"GT\", \"hazy\"))\n",
    "    "
   ]
  },
  {
   "cell_type": "code",
   "execution_count": 37,
   "id": "21ebb6ce",
   "metadata": {},
   "outputs": [],
   "source": [
    "def clean_names(data_dir):\n",
    "    \"\"\"Makes the file names in the hazy and GT directories \n",
    "    the same so that Augmentor detects corresponding files \"\"\"\n",
    "    for f in os.listdir(data_dir):\n",
    "        if \"hazy\" in f:\n",
    "            shutil.move(os.path.join(data_dir, f), os.path.join(data_dir, f.replace(\"_hazy\", \"\")))\n",
    "        elif \"GT\" in f:\n",
    "            shutil.move(os.path.join(data_dir, f), os.path.join(data_dir, f.replace(\"_GT\", \"\")))"
   ]
  },
  {
   "cell_type": "code",
   "execution_count": 33,
   "id": "8b89a705",
   "metadata": {},
   "outputs": [],
   "source": [
    "list_train_test_split(\"ohaze\")\n",
    "move_to_train_test_dirs(\"ohaze/train.txt\", \"ohaze/test.txt\")"
   ]
  },
  {
   "cell_type": "code",
   "execution_count": 38,
   "id": "d059fc49",
   "metadata": {},
   "outputs": [],
   "source": [
    "clean_names(\"ohaze/train/hazy\")\n",
    "clean_names(\"ohaze/train/GT\")\n",
    "clean_names(\"ohaze/test/hazy\")\n",
    "clean_names(\"ohaze/test/GT\")"
   ]
  },
  {
   "cell_type": "code",
   "execution_count": 39,
   "id": "6542ca96",
   "metadata": {},
   "outputs": [
    {
     "name": "stdout",
     "output_type": "stream",
     "text": [
      "Initialised with 36 image(s) found.\n",
      "Output directory set to ohaze/train/hazy/output."
     ]
    },
    {
     "name": "stderr",
     "output_type": "stream",
     "text": [
      "                                                       "
     ]
    },
    {
     "name": "stdout",
     "output_type": "stream",
     "text": [
      "36 ground truth image(s) found.\n"
     ]
    },
    {
     "name": "stderr",
     "output_type": "stream",
     "text": [
      "\r"
     ]
    }
   ],
   "source": [
    "p = Augmentor.Pipeline(\"ohaze/train/hazy\")\n",
    "p.ground_truth(\"ohaze/train/GT\")"
   ]
  },
  {
   "cell_type": "code",
   "execution_count": 40,
   "id": "3d95184c",
   "metadata": {},
   "outputs": [],
   "source": [
    "p.rotate(probability=0.5, max_left_rotation=10, max_right_rotation=10)\n",
    "p.flip_left_right(probability=0.8)\n",
    "p.crop_random(probability=0.5, percentage_area=0.85)\n",
    "p.random_distortion(probability=0.5, grid_width=4, grid_height=4, magnitude=8)"
   ]
  },
  {
   "cell_type": "code",
   "execution_count": 41,
   "id": "84f9194e",
   "metadata": {},
   "outputs": [
    {
     "name": "stderr",
     "output_type": "stream",
     "text": [
      "Processing <PIL.Image.Image image mode=RGB size=1359x903 at 0x7FE1452007F0>: 100%|██████████| 1000/1000 [01:03<00:00, 15.74 Samples/s]                 \n"
     ]
    }
   ],
   "source": [
    "p.sample(1000)"
   ]
  },
  {
   "cell_type": "code",
   "execution_count": null,
   "id": "cbe5f1b9",
   "metadata": {},
   "outputs": [],
   "source": []
  }
 ],
 "metadata": {
  "kernelspec": {
   "display_name": "Python 3 (ipykernel)",
   "language": "python",
   "name": "python3"
  },
  "language_info": {
   "codemirror_mode": {
    "name": "ipython",
    "version": 3
   },
   "file_extension": ".py",
   "mimetype": "text/x-python",
   "name": "python",
   "nbconvert_exporter": "python",
   "pygments_lexer": "ipython3",
   "version": "3.9.5"
  }
 },
 "nbformat": 4,
 "nbformat_minor": 5
}
