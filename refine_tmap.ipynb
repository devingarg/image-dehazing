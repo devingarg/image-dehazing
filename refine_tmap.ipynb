{
 "cells": [
  {
   "cell_type": "code",
   "execution_count": 35,
   "id": "67cbc098",
   "metadata": {},
   "outputs": [],
   "source": [
    "import cv2\n",
    "from cv2.ximgproc import guidedFilter\n",
    "import matplotlib.pyplot as plt\n",
    "import numpy as np\n",
    "\n",
    "import os"
   ]
  },
  {
   "cell_type": "code",
   "execution_count": 34,
   "id": "17456d68",
   "metadata": {},
   "outputs": [],
   "source": [
    "def get_filtered_map(img_path, dmap_path, dst_dir):\n",
    "    \n",
    "    fname = os.path.split(dmap_path)[1]\n",
    "    img = cv2.imread(img_path)/255\n",
    "    dmap = cv2.imread(dmap_path)/255\n",
    "    \n",
    "    dmap = cv2.resize(dmap, (img.shape[1], img.shape[0]))\n",
    "\n",
    "    dmap = cv2.cvtColor(dmap.astype('float32'), cv2.COLOR_BGR2GRAY)\n",
    "    tmap = np.clip(np.exp(-dmap), a_min=0, a_max=1)\n",
    "    \n",
    "    gray = cv2.cvtColor(img.astype('float32'), cv2.COLOR_BGR2GRAY)\n",
    "    t = guidedFilter(gray, tmap.astype('float32'), radius=20, eps=10e-3)\n",
    "    \n",
    "    cv2.imwrite(os.path.join(dst_dir, fname), t*255)\n",
    "#     plt.imshow(tmap, cmap=\"gray\")\n",
    "#     plt.show()\n",
    "#     plt.imshow(t, cmap=\"gray\")\n",
    "#     plt.show()\n",
    "    return"
   ]
  },
  {
   "cell_type": "code",
   "execution_count": 33,
   "id": "a2b58618",
   "metadata": {},
   "outputs": [],
   "source": [
    "dst_dir = \"dhazy/Middlebury_predictedDepthMap_refined\"\n",
    "os.makedirs(dst_dir, exist_ok=True)"
   ]
  },
  {
   "cell_type": "code",
   "execution_count": null,
   "id": "662c0ec2",
   "metadata": {},
   "outputs": [],
   "source": []
  },
  {
   "cell_type": "code",
   "execution_count": 37,
   "id": "92bd1475",
   "metadata": {},
   "outputs": [],
   "source": [
    "dmap_dir = \"dhazy/Middlebury_predictedDepthMap\"\n",
    "gt_dir = \"dhazy/Middlebury_GT\"\n",
    " \n",
    "gt_paths, dmap_paths = [], []\n",
    "\n",
    "for f in sorted(os.listdir(dmap_dir)):\n",
    "    dmap_paths.append(os.path.join(dmap_dir, f))\n",
    "\n",
    "for f in sorted(os.listdir(gt_dir)):\n",
    "#     if \"Image\" in f:\n",
    "    gt_paths.append(os.path.join(gt_dir, f))"
   ]
  },
  {
   "cell_type": "code",
   "execution_count": 38,
   "id": "9437eb30",
   "metadata": {},
   "outputs": [],
   "source": [
    "for img_path, dmap_path in zip(gt_paths, dmap_paths):\n",
    "    get_filtered_map(img_path, dmap_path, dst_dir)"
   ]
  },
  {
   "cell_type": "code",
   "execution_count": null,
   "id": "208f71a7",
   "metadata": {},
   "outputs": [],
   "source": []
  }
 ],
 "metadata": {
  "kernelspec": {
   "display_name": "Python 3 (ipykernel)",
   "language": "python",
   "name": "python3"
  },
  "language_info": {
   "codemirror_mode": {
    "name": "ipython",
    "version": 3
   },
   "file_extension": ".py",
   "mimetype": "text/x-python",
   "name": "python",
   "nbconvert_exporter": "python",
   "pygments_lexer": "ipython3",
   "version": "3.9.5"
  }
 },
 "nbformat": 4,
 "nbformat_minor": 5
}
