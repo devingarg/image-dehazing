{
 "cells": [
  {
   "cell_type": "code",
   "execution_count": null,
   "id": "7f1c109a",
   "metadata": {},
   "outputs": [],
   "source": [
    "!mkdir \"datasets\""
   ]
  },
  {
   "cell_type": "markdown",
   "id": "8bc09d16",
   "metadata": {},
   "source": [
    "# 1. O-HAZE dataset"
   ]
  },
  {
   "cell_type": "code",
   "execution_count": null,
   "id": "18dd1f8f",
   "metadata": {},
   "outputs": [],
   "source": [
    "# download the file, unzip it, remove it\n",
    "!wget \"http://www.vision.ee.ethz.ch/ntire18/o-haze/O-HAZE.zip\" -P \"datasets\"\n",
    "!unzip \"datasets/O-HAZE.zip\" -d \"datasets\"\n",
    "!rm \"datasets/O-HAZE.zip\"\n",
    "!mv \"datasets/# O-HAZY NTIRE 2018\" \"datasets/ohaze\""
   ]
  },
  {
   "cell_type": "markdown",
   "id": "8dbae8d1",
   "metadata": {},
   "source": [
    "# 2. D-HAZY"
   ]
  },
  {
   "cell_type": "code",
   "execution_count": null,
   "id": "0e447a8b",
   "metadata": {
    "scrolled": true
   },
   "outputs": [],
   "source": [
    "# download the file, unzip it, remove it\n",
    "!wget \"http://ancuti.meo.etc.upt.ro/D_Hazzy_ICIP2016/D-HAZY_DATASET.zip\" -P \"datasets\"\n",
    "!unzip \"datasets/D-HAZY_DATASET.zip\" -d \"datasets/\"\n",
    "!rm \"datasets/D-HAZY_DATASET.zip\""
   ]
  },
  {
   "cell_type": "code",
   "execution_count": null,
   "id": "41a8361d",
   "metadata": {
    "scrolled": true
   },
   "outputs": [],
   "source": [
    "# unzip the Middlebury subset\n",
    "!mkdir -p \"datasets/dhazy/Middlebury\"\n",
    "!unzip \"datasets/Middlebury_GT.zip\" -d \"datasets/dhazy/Middlebury/GT\"\n",
    "!rm \"datasets/Middlebury_GT.zip\"\n",
    "!unzip \"datasets/Middlebury_Hazy.zip\" -d \"datasets/dhazy/Middlebury/hazy\"\n",
    "!rm \"datasets/Middlebury_Hazy.zip\""
   ]
  },
  {
   "cell_type": "code",
   "execution_count": null,
   "id": "61f836c6",
   "metadata": {},
   "outputs": [],
   "source": [
    "# unzip the NYU subset\n",
    "# after extracting, NYU subset is 3.5G\n",
    "!mkdir \"datasets/dhazy/NYU\"\n",
    "!unzip \"datasets/NYU_GT.zip\" -d \"datasets/dhazy/NYU/GT\"\n",
    "!rm \"datasets/NYU_GT.zip\"\n",
    "!unzip \"datasets/NYU_Hazy.zip\" -d \"datasets/dhazy/NYU/hazy\"\n",
    "!rm \"datasets/NYU_Hazy.zip\""
   ]
  },
  {
   "cell_type": "markdown",
   "id": "b2c99968",
   "metadata": {},
   "source": [
    "# Cleanup!"
   ]
  },
  {
   "cell_type": "code",
   "execution_count": null,
   "id": "e1ef81eb",
   "metadata": {},
   "outputs": [],
   "source": [
    "# !rm -r \"datasets\""
   ]
  },
  {
   "cell_type": "code",
   "execution_count": null,
   "id": "bc1bea09",
   "metadata": {},
   "outputs": [],
   "source": []
  }
 ],
 "metadata": {
  "kernelspec": {
   "display_name": "Python 3 (ipykernel)",
   "language": "python",
   "name": "python3"
  },
  "language_info": {
   "codemirror_mode": {
    "name": "ipython",
    "version": 3
   },
   "file_extension": ".py",
   "mimetype": "text/x-python",
   "name": "python",
   "nbconvert_exporter": "python",
   "pygments_lexer": "ipython3",
   "version": "3.9.5"
  }
 },
 "nbformat": 4,
 "nbformat_minor": 5
}
