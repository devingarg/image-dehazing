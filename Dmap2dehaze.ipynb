{
 "cells": [
  {
   "cell_type": "code",
   "execution_count": 16,
   "id": "0bd36d98",
   "metadata": {},
   "outputs": [],
   "source": [
    "import os\n",
    "\n",
    "import cv2\n",
    "from PIL import Image\n",
    "import numpy as np\n",
    "import matplotlib.pyplot as plt\n",
    "from tqdm import tqdm"
   ]
  },
  {
   "cell_type": "code",
   "execution_count": 17,
   "id": "dcdce66f",
   "metadata": {},
   "outputs": [],
   "source": [
    "def recoverImage(img, t, A=np.array([1,1,1])):\n",
    "    t_0 = 0.1\n",
    "    J = np.zeros(img.shape, dtype='float64')\n",
    "\n",
    "    for i in range(img.shape[0]):\n",
    "        for j in range(img.shape[1]):\n",
    "            J[i,j] = ((img[i,j] - A) / max(t[i,j], t_0)) + A\n",
    "            \n",
    "    return J\n",
    "\n",
    "def haze2dehazed(haze_paths, dMap_paths, output_dir):\n",
    "\n",
    "    os.makedirs(output_dir, exist_ok=True)\n",
    "    \n",
    "    for img_path, dm_path in tqdm(zip(haze_paths, dMap_paths)):\n",
    "            \n",
    "        img_name = os.path.split(img_path)[1]\n",
    "        \n",
    "        img = cv2.imread(img_path)/255\n",
    "        dmap = cv2.imread(dm_path)/255\n",
    "        dmap = cv2.cvtColor(dmap.astype('float32'), cv2.COLOR_BGR2GRAY)\n",
    "        \n",
    "        tmap = np.clip(np.exp(-dmap), a_min=0, a_max=1)\n",
    "        dehaze_img = recoverImage(img, tmap)\n",
    "\n",
    "        # write to disk\n",
    "        dehaze_img_name = os.path.join(output_dir, img_name)\n",
    "        cv2.imwrite(dehaze_img_name, dehaze_img*255)\n"
   ]
  },
  {
   "cell_type": "code",
   "execution_count": 18,
   "id": "ec20f6cf",
   "metadata": {},
   "outputs": [],
   "source": [
    "dmap_dir = \"dhazy/NYU_GT\"\n",
    "hazy_dir = \"dhazy/NYU_Hazy\"\n",
    "output_dir = \"dhazy/NYU_dehazed\""
   ]
  },
  {
   "cell_type": "code",
   "execution_count": 22,
   "id": "3e9ca2bb",
   "metadata": {},
   "outputs": [],
   "source": [
    "dmap_paths = []\n",
    "hazy_paths = []\n",
    "\n",
    "for f in os.listdir(hazy_dir):\n",
    "    hazy_path = os.path.join(hazy_dir, f)\n",
    "    dmap_path = os.path.join(dmap_dir, f.replace(\"_Hazy\", \"_Depth_\"))\n",
    "    \n",
    "    dmap_paths.append(dmap_path)\n",
    "    hazy_paths.append(hazy_path)  "
   ]
  },
  {
   "cell_type": "code",
   "execution_count": 24,
   "id": "721b01b1",
   "metadata": {},
   "outputs": [
    {
     "data": {
      "text/plain": [
       "['dhazy/NYU_Hazy/1349_Hazy.bmp',\n",
       " 'dhazy/NYU_Hazy/16_Hazy.bmp',\n",
       " 'dhazy/NYU_Hazy/792_Hazy.bmp',\n",
       " 'dhazy/NYU_Hazy/829_Hazy.bmp',\n",
       " 'dhazy/NYU_Hazy/1044_Hazy.bmp']"
      ]
     },
     "execution_count": 24,
     "metadata": {},
     "output_type": "execute_result"
    }
   ],
   "source": [
    "hazy_paths[:5]"
   ]
  },
  {
   "cell_type": "code",
   "execution_count": 25,
   "id": "76f5bdf2",
   "metadata": {},
   "outputs": [
    {
     "name": "stderr",
     "output_type": "stream",
     "text": [
      "1356it [48:56,  2.17s/it]\n"
     ]
    },
    {
     "ename": "KeyboardInterrupt",
     "evalue": "",
     "output_type": "error",
     "traceback": [
      "\u001b[0;31m---------------------------------------------------------------------------\u001b[0m",
      "\u001b[0;31mKeyboardInterrupt\u001b[0m                         Traceback (most recent call last)",
      "\u001b[0;32m/tmp/ipykernel_14114/3008424067.py\u001b[0m in \u001b[0;36m<module>\u001b[0;34m\u001b[0m\n\u001b[0;32m----> 1\u001b[0;31m \u001b[0mhaze2dehazed\u001b[0m\u001b[0;34m(\u001b[0m\u001b[0mhazy_paths\u001b[0m\u001b[0;34m,\u001b[0m \u001b[0mdmap_paths\u001b[0m\u001b[0;34m,\u001b[0m \u001b[0moutput_dir\u001b[0m\u001b[0;34m)\u001b[0m\u001b[0;34m\u001b[0m\u001b[0;34m\u001b[0m\u001b[0m\n\u001b[0m",
      "\u001b[0;32m/tmp/ipykernel_14114/1274775421.py\u001b[0m in \u001b[0;36mhaze2dehazed\u001b[0;34m(haze_paths, dMap_paths, output_dir)\u001b[0m\n\u001b[1;32m     22\u001b[0m \u001b[0;34m\u001b[0m\u001b[0m\n\u001b[1;32m     23\u001b[0m         \u001b[0mtmap\u001b[0m \u001b[0;34m=\u001b[0m \u001b[0mnp\u001b[0m\u001b[0;34m.\u001b[0m\u001b[0mclip\u001b[0m\u001b[0;34m(\u001b[0m\u001b[0mnp\u001b[0m\u001b[0;34m.\u001b[0m\u001b[0mexp\u001b[0m\u001b[0;34m(\u001b[0m\u001b[0;34m-\u001b[0m\u001b[0mdmap\u001b[0m\u001b[0;34m)\u001b[0m\u001b[0;34m,\u001b[0m \u001b[0ma_min\u001b[0m\u001b[0;34m=\u001b[0m\u001b[0;36m0\u001b[0m\u001b[0;34m,\u001b[0m \u001b[0ma_max\u001b[0m\u001b[0;34m=\u001b[0m\u001b[0;36m1\u001b[0m\u001b[0;34m)\u001b[0m\u001b[0;34m\u001b[0m\u001b[0;34m\u001b[0m\u001b[0m\n\u001b[0;32m---> 24\u001b[0;31m         \u001b[0mdehaze_img\u001b[0m \u001b[0;34m=\u001b[0m \u001b[0mrecoverImage\u001b[0m\u001b[0;34m(\u001b[0m\u001b[0mimg\u001b[0m\u001b[0;34m,\u001b[0m \u001b[0mtmap\u001b[0m\u001b[0;34m)\u001b[0m\u001b[0;34m\u001b[0m\u001b[0;34m\u001b[0m\u001b[0m\n\u001b[0m\u001b[1;32m     25\u001b[0m \u001b[0;34m\u001b[0m\u001b[0m\n\u001b[1;32m     26\u001b[0m         \u001b[0;31m# write to disk\u001b[0m\u001b[0;34m\u001b[0m\u001b[0;34m\u001b[0m\u001b[0;34m\u001b[0m\u001b[0m\n",
      "\u001b[0;32m/tmp/ipykernel_14114/1274775421.py\u001b[0m in \u001b[0;36mrecoverImage\u001b[0;34m(img, t, A)\u001b[0m\n\u001b[1;32m      5\u001b[0m     \u001b[0;32mfor\u001b[0m \u001b[0mi\u001b[0m \u001b[0;32min\u001b[0m \u001b[0mrange\u001b[0m\u001b[0;34m(\u001b[0m\u001b[0mimg\u001b[0m\u001b[0;34m.\u001b[0m\u001b[0mshape\u001b[0m\u001b[0;34m[\u001b[0m\u001b[0;36m0\u001b[0m\u001b[0;34m]\u001b[0m\u001b[0;34m)\u001b[0m\u001b[0;34m:\u001b[0m\u001b[0;34m\u001b[0m\u001b[0;34m\u001b[0m\u001b[0m\n\u001b[1;32m      6\u001b[0m         \u001b[0;32mfor\u001b[0m \u001b[0mj\u001b[0m \u001b[0;32min\u001b[0m \u001b[0mrange\u001b[0m\u001b[0;34m(\u001b[0m\u001b[0mimg\u001b[0m\u001b[0;34m.\u001b[0m\u001b[0mshape\u001b[0m\u001b[0;34m[\u001b[0m\u001b[0;36m1\u001b[0m\u001b[0;34m]\u001b[0m\u001b[0;34m)\u001b[0m\u001b[0;34m:\u001b[0m\u001b[0;34m\u001b[0m\u001b[0;34m\u001b[0m\u001b[0m\n\u001b[0;32m----> 7\u001b[0;31m             \u001b[0mJ\u001b[0m\u001b[0;34m[\u001b[0m\u001b[0mi\u001b[0m\u001b[0;34m,\u001b[0m\u001b[0mj\u001b[0m\u001b[0;34m]\u001b[0m \u001b[0;34m=\u001b[0m \u001b[0;34m(\u001b[0m\u001b[0;34m(\u001b[0m\u001b[0mimg\u001b[0m\u001b[0;34m[\u001b[0m\u001b[0mi\u001b[0m\u001b[0;34m,\u001b[0m\u001b[0mj\u001b[0m\u001b[0;34m]\u001b[0m \u001b[0;34m-\u001b[0m \u001b[0mA\u001b[0m\u001b[0;34m)\u001b[0m \u001b[0;34m/\u001b[0m \u001b[0mmax\u001b[0m\u001b[0;34m(\u001b[0m\u001b[0mt\u001b[0m\u001b[0;34m[\u001b[0m\u001b[0mi\u001b[0m\u001b[0;34m,\u001b[0m\u001b[0mj\u001b[0m\u001b[0;34m]\u001b[0m\u001b[0;34m,\u001b[0m \u001b[0mt_0\u001b[0m\u001b[0;34m)\u001b[0m\u001b[0;34m)\u001b[0m \u001b[0;34m+\u001b[0m \u001b[0mA\u001b[0m\u001b[0;34m\u001b[0m\u001b[0;34m\u001b[0m\u001b[0m\n\u001b[0m\u001b[1;32m      8\u001b[0m \u001b[0;34m\u001b[0m\u001b[0m\n\u001b[1;32m      9\u001b[0m     \u001b[0;32mreturn\u001b[0m \u001b[0mJ\u001b[0m\u001b[0;34m\u001b[0m\u001b[0;34m\u001b[0m\u001b[0m\n",
      "\u001b[0;31mKeyboardInterrupt\u001b[0m: "
     ]
    }
   ],
   "source": [
    "haze2dehazed(hazy_paths, dmap_paths, output_dir)"
   ]
  },
  {
   "cell_type": "code",
   "execution_count": null,
   "id": "5a7c7fca",
   "metadata": {},
   "outputs": [],
   "source": []
  }
 ],
 "metadata": {
  "kernelspec": {
   "display_name": "Python 3 (ipykernel)",
   "language": "python",
   "name": "python3"
  },
  "language_info": {
   "codemirror_mode": {
    "name": "ipython",
    "version": 3
   },
   "file_extension": ".py",
   "mimetype": "text/x-python",
   "name": "python",
   "nbconvert_exporter": "python",
   "pygments_lexer": "ipython3",
   "version": "3.9.5"
  }
 },
 "nbformat": 4,
 "nbformat_minor": 5
}
