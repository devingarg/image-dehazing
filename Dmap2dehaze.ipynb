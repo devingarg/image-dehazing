{
 "cells": [
  {
   "cell_type": "code",
   "execution_count": 103,
   "id": "0bd36d98",
   "metadata": {},
   "outputs": [],
   "source": [
    "import os\n",
    "\n",
    "import cv2\n",
    "from PIL import Image\n",
    "import numpy as np\n",
    "import matplotlib.pyplot as plt\n",
    "from tqdm import tqdm"
   ]
  },
  {
   "cell_type": "code",
   "execution_count": 104,
   "id": "dcdce66f",
   "metadata": {},
   "outputs": [],
   "source": [
    "def recoverImage(img, t, A=np.array([1,1,1])):\n",
    "    t_0 = 0.1\n",
    "    J = np.zeros(img.shape, dtype='float64')\n",
    "\n",
    "    for i in range(img.shape[0]):\n",
    "        for j in range(img.shape[1]):\n",
    "            J[i,j] = ((img[i,j] - A) / max(t[i,j], t_0)) + A\n",
    "            \n",
    "    return J\n",
    "\n",
    "def haze2dehazed(haze_paths, dMap_paths, output_dir):\n",
    "\n",
    "    os.makedirs(output_dir, exist_ok=True)\n",
    "    \n",
    "    for img_path, dm_path in tqdm(zip(haze_paths, dMap_paths), total=len(haze_paths)):\n",
    "        \n",
    "        img_name = os.path.split(img_path)[1]\n",
    "        \n",
    "        dehaze_img_name = os.path.join(output_dir, img_name)\n",
    "#         if os.path.isfile(dehaze_img_name):\n",
    "#             continue\n",
    "            \n",
    "        img = cv2.imread(img_path)/255\n",
    "        dmap = cv2.imread(dm_path)/255\n",
    "       \n",
    "        # the generated depth map's shape could be slightly off compared to the original image so fix that\n",
    "        dmap = cv2.resize(dmap, (img.shape[1], img.shape[0]))\n",
    "\n",
    "        dmap = cv2.cvtColor(dmap.astype('float32'), cv2.COLOR_BGR2GRAY)\n",
    "        \n",
    "#         tmap = np.clip(np.exp(-dmap), a_min=0, a_max=1)\n",
    "        tmap = dmap\n",
    "        dehaze_img = recoverImage(img, tmap)\n",
    "\n",
    "        # write to disk\n",
    "        cv2.imwrite(dehaze_img_name, dehaze_img*255)\n"
   ]
  },
  {
   "cell_type": "code",
   "execution_count": 105,
   "id": "ec20f6cf",
   "metadata": {},
   "outputs": [],
   "source": [
    "dmap_dir = \"dhazy/Middlebury_predictedDepthMap_refined\"\n",
    "hazy_dir = \"dhazy/Middlebury_Hazy_reshaped\"\n",
    "output_dir = hazy_dir+\"_dehazed\""
   ]
  },
  {
   "cell_type": "code",
   "execution_count": 108,
   "id": "3e9ca2bb",
   "metadata": {},
   "outputs": [],
   "source": [
    "dmap_paths = []\n",
    "hazy_paths = []\n",
    "\n",
    "for f in os.listdir(hazy_dir):\n",
    "    hazy_path = os.path.join(hazy_dir, f)\n",
    "    dmap_path = os.path.join(dmap_dir, f.replace(\"_Hazy\", \"_predDMap\"))\n",
    "    \n",
    "    assert os.path.isfile(dmap_path) and os.path.isfile(hazy_path)\n",
    "    dmap_paths.append(dmap_path)\n",
    "    hazy_paths.append(hazy_path)  "
   ]
  },
  {
   "cell_type": "code",
   "execution_count": 109,
   "id": "721b01b1",
   "metadata": {},
   "outputs": [
    {
     "name": "stdout",
     "output_type": "stream",
     "text": [
      "['dhazy/Middlebury_Hazy_reshaped/Vintage_Hazy.bmp', 'dhazy/Middlebury_Hazy_reshaped/Sword1_Hazy.bmp', 'dhazy/Middlebury_Hazy_reshaped/Bicycle1_Hazy.bmp', 'dhazy/Middlebury_Hazy_reshaped/Piano_Hazy.bmp', 'dhazy/Middlebury_Hazy_reshaped/Jadeplant_Hazy.bmp'] ['dhazy/Middlebury_predictedDepthMap_refined/Vintage_predDMap.bmp', 'dhazy/Middlebury_predictedDepthMap_refined/Sword1_predDMap.bmp', 'dhazy/Middlebury_predictedDepthMap_refined/Bicycle1_predDMap.bmp', 'dhazy/Middlebury_predictedDepthMap_refined/Piano_predDMap.bmp', 'dhazy/Middlebury_predictedDepthMap_refined/Jadeplant_predDMap.bmp']\n"
     ]
    }
   ],
   "source": [
    "print(hazy_paths[:5], dmap_paths[:5])"
   ]
  },
  {
   "cell_type": "code",
   "execution_count": 110,
   "id": "76f5bdf2",
   "metadata": {},
   "outputs": [
    {
     "name": "stderr",
     "output_type": "stream",
     "text": [
      "\n",
      "  0%|          | 0/23 [00:00<?, ?it/s]\u001b[A\n",
      "  4%|▍         | 1/23 [00:02<00:58,  2.68s/it]\u001b[A\n",
      "  9%|▊         | 2/23 [00:05<00:56,  2.71s/it]\u001b[A\n",
      " 13%|█▎        | 3/23 [00:08<00:53,  2.69s/it]\u001b[A\n",
      " 17%|█▋        | 4/23 [00:10<00:50,  2.66s/it]\u001b[A\n",
      " 22%|██▏       | 5/23 [00:13<00:46,  2.60s/it]\u001b[A\n",
      " 26%|██▌       | 6/23 [00:15<00:44,  2.60s/it]\u001b[A\n",
      " 30%|███       | 7/23 [00:18<00:42,  2.68s/it]\u001b[A\n",
      " 35%|███▍      | 8/23 [00:21<00:40,  2.67s/it]\u001b[A\n",
      " 39%|███▉      | 9/23 [00:23<00:37,  2.66s/it]\u001b[A\n",
      " 43%|████▎     | 10/23 [00:26<00:34,  2.63s/it]\u001b[A\n",
      " 48%|████▊     | 11/23 [00:29<00:31,  2.64s/it]\u001b[A\n",
      " 52%|█████▏    | 12/23 [00:31<00:26,  2.45s/it]\u001b[A\n",
      " 57%|█████▋    | 13/23 [00:33<00:24,  2.45s/it]\u001b[A\n",
      " 61%|██████    | 14/23 [00:36<00:22,  2.54s/it]\u001b[A\n",
      " 65%|██████▌   | 15/23 [00:38<00:19,  2.46s/it]\u001b[A\n",
      " 70%|██████▉   | 16/23 [00:41<00:17,  2.54s/it]\u001b[A\n",
      " 74%|███████▍  | 17/23 [00:44<00:15,  2.62s/it]\u001b[A\n",
      " 78%|███████▊  | 18/23 [00:47<00:13,  2.78s/it]\u001b[A\n",
      " 83%|████████▎ | 19/23 [00:50<00:11,  2.79s/it]\u001b[A\n",
      " 87%|████████▋ | 20/23 [00:53<00:08,  2.83s/it]\u001b[A\n",
      " 91%|█████████▏| 21/23 [00:55<00:05,  2.71s/it]\u001b[A\n",
      " 96%|█████████▌| 22/23 [00:58<00:02,  2.71s/it]\u001b[A\n",
      "100%|██████████| 23/23 [01:00<00:00,  2.65s/it]\u001b[A\n"
     ]
    }
   ],
   "source": [
    "haze2dehazed(hazy_paths, dmap_paths, output_dir)"
   ]
  },
  {
   "cell_type": "code",
   "execution_count": null,
   "id": "5a7c7fca",
   "metadata": {},
   "outputs": [],
   "source": []
  },
  {
   "cell_type": "code",
   "execution_count": null,
   "id": "4778f9a1",
   "metadata": {},
   "outputs": [],
   "source": []
  }
 ],
 "metadata": {
  "kernelspec": {
   "display_name": "Python 3 (ipykernel)",
   "language": "python",
   "name": "python3"
  },
  "language_info": {
   "codemirror_mode": {
    "name": "ipython",
    "version": 3
   },
   "file_extension": ".py",
   "mimetype": "text/x-python",
   "name": "python",
   "nbconvert_exporter": "python",
   "pygments_lexer": "ipython3",
   "version": "3.9.5"
  }
 },
 "nbformat": 4,
 "nbformat_minor": 5
}
