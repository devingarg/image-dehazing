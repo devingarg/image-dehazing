{
 "cells": [
  {
   "cell_type": "markdown",
   "id": "d44b5488",
   "metadata": {},
   "source": [
    "## Report PSNR, SSIM, MSE scores"
   ]
  },
  {
   "cell_type": "code",
   "execution_count": 71,
   "id": "378ee822",
   "metadata": {},
   "outputs": [],
   "source": [
    "gt_dir = \"dhazy/Middlebury_GT\"\n",
    "output_dir = \"dhazy/Middlebury_Hazy_reshaped_dehazed\""
   ]
  },
  {
   "cell_type": "code",
   "execution_count": 72,
   "id": "aac443b8",
   "metadata": {},
   "outputs": [],
   "source": [
    "import os\n",
    "\n",
    "import numpy as np\n",
    "from skimage.metrics import peak_signal_noise_ratio as psnr\n",
    "from skimage.metrics import structural_similarity as ssim\n",
    "from skimage.metrics import mean_squared_error as mse\n",
    "from skimage import io, transform\n",
    "import matplotlib.pyplot as plt"
   ]
  },
  {
   "cell_type": "code",
   "execution_count": 73,
   "id": "fbc3aa1a",
   "metadata": {},
   "outputs": [],
   "source": [
    "# collect names\n",
    "fnames = []\n",
    "\n",
    "for f in sorted(os.listdir(output_dir)):\n",
    "    fnames.append(f)"
   ]
  },
  {
   "cell_type": "code",
   "execution_count": 64,
   "id": "aed2a88c",
   "metadata": {},
   "outputs": [],
   "source": [
    "# fnames = []\n",
    "# with open(\"dhazy/NYU_split/test_Hazy.txt\") as f:\n",
    "#     for line in f.readlines():\n",
    "#         fnames.append(os.path.split(line.strip())[1])\n",
    "#         assert os.path.isfile(line.strip())"
   ]
  },
  {
   "cell_type": "code",
   "execution_count": 75,
   "id": "f685bd61",
   "metadata": {},
   "outputs": [],
   "source": [
    "# compute the metrics\n",
    "psnrs, ssims, mses = [], [], []\n",
    "\n",
    "for f in fnames:\n",
    "    \n",
    "    img_gt = io.imread(os.path.join(gt_dir, f.replace(\"_Hazy.bmp\", \"_im0.png\")))\n",
    "    img_out = io.imread(os.path.join(output_dir, f))/255\n",
    "    \n",
    "    img_gt = transform.resize(img_gt, (img_out.shape[0], img_out.shape[1]))\n",
    "   \n",
    "    psnrs.append(psnr(img_gt, img_out))\n",
    "    mses.append(mse(img_gt, img_out))\n",
    "    ssims.append(ssim(img_gt, img_out, multichannel=True))"
   ]
  },
  {
   "cell_type": "code",
   "execution_count": 76,
   "id": "e203fc9a",
   "metadata": {},
   "outputs": [],
   "source": [
    "def get_histogram(values, metric):\n",
    "    \n",
    "    # Create the histogram plot\n",
    "    plt.hist(values, bins='auto')\n",
    "\n",
    "    # Set the title and labels\n",
    "    plt.xlabel(f\"{metric} values\")\n",
    "    plt.ylabel(\"Frequency\")\n",
    "\n",
    "    # Display the plot\n",
    "    plt.show()"
   ]
  },
  {
   "cell_type": "code",
   "execution_count": 77,
   "id": "1c4d3bd9",
   "metadata": {
    "scrolled": true
   },
   "outputs": [
    {
     "data": {
      "image/png": "[encoded data removed]",
      "text/plain": [
       "<Figure size 432x288 with 1 Axes>"
      ]
     },
     "metadata": {
      "needs_background": "light"
     },
     "output_type": "display_data"
    },
    {
     "data": {
      "image/png": "[encoded data removed]",
      "text/plain": [
       "<Figure size 432x288 with 1 Axes>"
      ]
     },
     "metadata": {
      "needs_background": "light"
     },
     "output_type": "display_data"
    },
    {
     "data": {
      "image/png": "[encoded data removed]",
      "text/plain": [
       "<Figure size 432x288 with 1 Axes>"
      ]
     },
     "metadata": {
      "needs_background": "light"
     },
     "output_type": "display_data"
    },
    {
     "name": "stdout",
     "output_type": "stream",
     "text": [
      "Avg. PSNR: 12.737036659071165\n",
      "Avg. SSIM: 0.7841313518854368\n",
      "Avg. MSE: 0.07279888796476608\n"
     ]
    }
   ],
   "source": [
    "# visualize metrics\n",
    "\n",
    "get_histogram(psnrs, \"PSNR\")\n",
    "get_histogram(ssims, \"SSIM\")\n",
    "get_histogram(mses, \"MSE\")\n",
    "\n",
    "print(f\"Avg. PSNR: {np.mean(psnrs)}\")\n",
    "print(f\"Avg. SSIM: {np.mean(ssims)}\")\n",
    "print(f\"Avg. MSE: {np.mean(mses)}\")"
   ]
  },
  {
   "cell_type": "code",
   "execution_count": 78,
   "id": "bccff8c7",
   "metadata": {},
   "outputs": [
    {
     "name": "stdout",
     "output_type": "stream",
     "text": [
      "23\n"
     ]
    }
   ],
   "source": [
    "print(len(psnrs))\n"
   ]
  },
  {
   "cell_type": "code",
   "execution_count": null,
   "id": "049b61fa",
   "metadata": {},
   "outputs": [],
   "source": []
  }
 ],
 "metadata": {
  "kernelspec": {
   "display_name": "Python 3 (ipykernel)",
   "language": "python",
   "name": "python3"
  },
  "language_info": {
   "codemirror_mode": {
    "name": "ipython",
    "version": 3
   },
   "file_extension": ".py",
   "mimetype": "text/x-python",
   "name": "python",
   "nbconvert_exporter": "python",
   "pygments_lexer": "ipython3",
   "version": "3.9.5"
  }
 },
 "nbformat": 4,
 "nbformat_minor": 5
}
