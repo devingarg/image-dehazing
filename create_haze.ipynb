{
 "cells": [
  {
   "cell_type": "code",
   "execution_count": 1,
   "id": "d659ead4",
   "metadata": {},
   "outputs": [],
   "source": [
    "import os\n",
    "import random\n",
    "import cv2\n",
    "import numpy as np\n",
    "import random\n",
    "from tqdm import tqdm\n",
    "import matplotlib.pyplot as plt"
   ]
  },
  {
   "cell_type": "code",
   "execution_count": 2,
   "id": "a7b3713a",
   "metadata": {},
   "outputs": [],
   "source": [
    "!mkdir ohaze/haze_syn"
   ]
  },
  {
   "cell_type": "code",
   "execution_count": 10,
   "id": "0228e882",
   "metadata": {},
   "outputs": [],
   "source": [
    "def create_dataset(img_dir, data_dir, patch_size=500):\n",
    "    # img_dir: dir of haze-free images\n",
    "    # patch_size: size of image patch\n",
    "\n",
    "    img_path = os.listdir(img_dir)\n",
    "\n",
    "    for image_name in img_path:\n",
    "        fullname = os.path.join(img_dir, image_name)\n",
    "        print(fullname)\n",
    "        img = cv2.imread(fullname)\n",
    "\n",
    "        w, h, _ = img.shape\n",
    "\n",
    "        num_w = w // patch_size\n",
    "        num_h = h // patch_size\n",
    "\n",
    "        # Copy the original image\n",
    "        hazy_img = img.copy()\n",
    "        tmap = np.zeros((hazy_img.shape[0], hazy_img.shape[1]))\n",
    "\n",
    "        for i in range(num_w):\n",
    "            for j in range(num_h):\n",
    "                t = random.random()\n",
    "                tmap[i * patch_size : (i+1) * patch_size,\n",
    "                    j * patch_size : (j+1) * patch_size] = t * 255\n",
    "\n",
    "        # Handle the remainder (right and bottom strips)\n",
    "        for i in range(num_w + 1):\n",
    "            t = random.random()\n",
    "            tmap[i * patch_size : (i+1) * patch_size, num_h * patch_size :] = t * 255\n",
    "\n",
    "        for j in range(num_h + 1):\n",
    "            t = random.random()\n",
    "            tmap[num_w * patch_size :, j * patch_size : (j+1) * patch_size] = t * 255\n",
    "\n",
    "        img = img.astype(np.float32) / 255\n",
    "        tmap = tmap.astype(np.float32) / 255\n",
    "\n",
    "        # Create the guided filter. \n",
    "        guided_filter = cv2.ximgproc.createGuidedFilter(guide=img, radius=270, eps=0.001)\n",
    "        refined_tmap = (255 * guided_filter.filter(tmap)).astype(np.uint8)\n",
    "\n",
    "        # Write refined tmap to disk\n",
    "        tmap_img_name = os.path.join(data_dir, image_name.replace('GT','tmap'))\n",
    "        cv2.imwrite(tmap_img_name, refined_tmap)\n",
    "\n",
    "        # Generate hazy image using atmospheric scattering model with atmlight = 255\n",
    "        refined_tmap = refined_tmap[:,:,np.newaxis]\n",
    "        hazy_img = np.clip(img * refined_tmap + (255 - refined_tmap), 0, 255).astype('uint8')\n",
    "\n",
    "        # Write the hazy image to disk\n",
    "        hazy_img_name = os.path.join(data_dir, image_name.replace('GT','syn'))\n",
    "        cv2.imwrite(hazy_img_name, hazy_img)\n"
   ]
  },
  {
   "cell_type": "code",
   "execution_count": 12,
   "id": "7aff1f8c",
   "metadata": {},
   "outputs": [
    {
     "name": "stdout",
     "output_type": "stream",
     "text": [
      "ohaze/GT/30_outdoor_GT.jpg\n",
      "ohaze/GT/12_outdoor_GT.jpg\n",
      "ohaze/GT/37_outdoor_GT.jpg\n",
      "ohaze/GT/29_outdoor_GT.jpg\n",
      "ohaze/GT/15_outdoor_GT.jpg\n",
      "ohaze/GT/02_outdoor_GT.jpg\n",
      "ohaze/GT/41_outdoor_GT.jpg\n",
      "ohaze/GT/20_outdoor_GT.jpg\n",
      "ohaze/GT/05_outdoor_GT.jpg\n",
      "ohaze/GT/27_outdoor_GT.jpg\n",
      "ohaze/GT/39_outdoor_GT.jpg\n",
      "ohaze/GT/35_outdoor_GT.jpg\n",
      "ohaze/GT/03_outdoor_GT.JPG\n",
      "ohaze/GT/09_outdoor_GT.jpg\n",
      "ohaze/GT/17_outdoor_GT.jpg\n",
      "ohaze/GT/21_outdoor_GT.JPG\n",
      "ohaze/GT/32_outdoor_GT.jpg\n",
      "ohaze/GT/10_outdoor_GT.jpg\n",
      "ohaze/GT/44_outdoor_GT.jpg\n",
      "ohaze/GT/19_outdoor_GT.jpg\n",
      "ohaze/GT/07_outdoor_GT.jpg\n",
      "ohaze/GT/25_outdoor_GT.jpg\n",
      "ohaze/GT/43_outdoor_GT.jpg\n",
      "ohaze/GT/22_outdoor_GT.jpg\n",
      "ohaze/GT/45_outdoor_GT.jpg\n",
      "ohaze/GT/18_outdoor_GT.jpg\n",
      "ohaze/GT/06_outdoor_GT.jpg\n",
      "ohaze/GT/24_outdoor_GT.jpg\n",
      "ohaze/GT/01_outdoor_GT.jpg\n",
      "ohaze/GT/42_outdoor_GT.jpg\n",
      "ohaze/GT/23_outdoor_GT.jpg\n",
      "ohaze/GT/34_outdoor_GT.jpg\n",
      "ohaze/GT/08_outdoor_GT.jpg\n",
      "ohaze/GT/16_outdoor_GT.jpg\n",
      "ohaze/GT/33_outdoor_GT.jpg\n",
      "ohaze/GT/11_outdoor_GT.jpg\n",
      "ohaze/GT/40_outdoor_GT.jpg\n",
      "ohaze/GT/04_outdoor_GT.jpg\n",
      "ohaze/GT/26_outdoor_GT.jpg\n",
      "ohaze/GT/38_outdoor_GT.jpg\n",
      "ohaze/GT/31_outdoor_GT.jpg\n",
      "ohaze/GT/13_outdoor_GT.jpg\n",
      "ohaze/GT/36_outdoor_GT.jpg\n",
      "ohaze/GT/28_outdoor_GT.jpg\n",
      "ohaze/GT/14_outdoor_GT.jpg\n"
     ]
    }
   ],
   "source": [
    "create_dataset(\"ohaze/GT/\", \"ohaze/haze_syn/\")"
   ]
  },
  {
   "cell_type": "code",
   "execution_count": null,
   "id": "1c57d439",
   "metadata": {},
   "outputs": [],
   "source": []
  }
 ],
 "metadata": {
  "kernelspec": {
   "display_name": "Python 3 (clean)",
   "language": "python",
   "name": "python3_clean"
  },
  "language_info": {
   "codemirror_mode": {
    "name": "ipython",
    "version": 3
   },
   "file_extension": ".py",
   "mimetype": "text/x-python",
   "name": "python",
   "nbconvert_exporter": "python",
   "pygments_lexer": "ipython3",
   "version": "3.9.5"
  }
 },
 "nbformat": 4,
 "nbformat_minor": 5
}
